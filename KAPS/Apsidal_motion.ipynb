{
 "cells": [
  {
   "cell_type": "code",
   "execution_count": 35,
   "id": "b5686b70-8e1c-42a8-a59f-a47a027b8a8b",
   "metadata": {},
   "outputs": [],
   "source": [
    "import pandas as pd\n",
    "import numpy as np\n",
    "import scipy.integrate as integrate\n",
    "import matplotlib.pyplot as plt\n",
    "import seaborn as sns\n",
    "import scipy.interpolate as interpolate\n",
    "import mesa_reader as mr"
   ]
  },
  {
   "cell_type": "code",
   "execution_count": 36,
   "id": "5fde47ba-4969-4c04-94e7-f731769b2ce0",
   "metadata": {},
   "outputs": [],
   "source": [
    "def radau_equation(t, y, rho_over_rhom):\n",
    "    r = t\n",
    "    eta = y[0]\n",
    "    if r==0.0: return 0.0\n",
    "    \n",
    "    detadr = - eta * (eta - 1) + 6 - 6*rho_over_rhom(r) * (eta + 1)\n",
    "    detadr = detadr / r\n",
    "    return [detadr]\n",
    "\n",
    "def get_rho_over_rhom(rho, r):\n",
    "    rhof = interpolate.interp1d(r, np.log10(rho), kind=\"linear\")\n",
    "    rs = np.linspace(r[0], r[-1], 100)\n",
    "    rhom = rs.copy()\n",
    "        \n",
    "    rhom[0] = rho[0]\n",
    "    for i in range(1,len(rhom)):\n",
    "        intgral, err = integrate.quad(lambda x: x*x*10**rhof(x), r[0], rs[i])\n",
    "        rhom[i] = 3/rs[i]**3 * intgral\n",
    "    rho_over_rhom = 10**rhof(rs)/rhom\n",
    "    rho_over_rhomf = interpolate.interp1d(rs, rho_over_rhom, kind=\"linear\")\n",
    "\n",
    "    return rho_over_rhomf"
   ]
  },
  {
   "cell_type": "code",
   "execution_count": null,
   "id": "a7c477b0-8020-4195-8be9-66319e28608b",
   "metadata": {},
   "outputs": [],
   "source": [
    "kaps_pri = []\n",
    "kaps_pri_time =[]\n",
    "kaps_sec = []\n",
    "kaps_sec_time =[]\n",
    "N=300\n",
    "for i in range(N):\n",
    "    profile_path1 ='../LOGS1/profile%d.data'%(i+1)\n",
    "    p = mr.MesaData(profile_path1)\n",
    "    kaps_pri_time.append(p.header('star_age'))\n",
    "    rho = 10**p.data('logRho')\n",
    "    r = 10**p.data('logR')\n",
    "    r = np.flip(r)\n",
    "    rho = np.flip(rho)\n",
    "    rho_over_rhomf = get_rho_over_rhom(rho, r)\n",
    "    eta_center = 0.0\n",
    "    teval = np.linspace(0.1, r[-1], 50)\n",
    "    sol = integrate.solve_ivp(radau_equation, t_span=[r[0], r[-1]], y0=[eta_center], args=(rho_over_rhomf,), method=\"DOP853\", t_eval=teval, rtol=1e-9, atol=1e-9)\n",
    "    eta2_surf = sol.y[0][-1]\n",
    "    kaps = (3 - eta2_surf) / (4 + 2*eta2_surf)\n",
    "    kaps_pri.append(kaps)\n",
    "for i in range(N):\n",
    "    profile_path2 ='../LOGS2/profile%d.data'%(i+1)\n",
    "    p = mr.MesaData(profile_path2)\n",
    "    kaps_sec_time.append(p.header('star_age'))\n",
    "    rho = 10**p.data('logRho')\n",
    "    r = 10**p.data('logR')\n",
    "    r = np.flip(r)\n",
    "    rho = np.flip(rho)\n",
    "    rho_over_rhomf = get_rho_over_rhom(rho, r)\n",
    "    eta_center = 0.0\n",
    "    teval = np.linspace(0.1, r[-1], 50)\n",
    "    sol = integrate.solve_ivp(radau_equation, t_span=[r[0], r[-1]], y0=[eta_center], args=(rho_over_rhomf,), method=\"DOP853\", t_eval=teval, rtol=1e-9, atol=1e-9)\n",
    "    eta2_surf = sol.y[0][-1]\n",
    "    kaps = (3 - eta2_surf) / (4 + 2*eta2_surf)\n",
    "    kaps_sec.append(kaps)"
   ]
  },
  {
   "cell_type": "code",
   "execution_count": null,
   "id": "2d3d84e9-19a9-43bb-8cd1-299669982da6",
   "metadata": {},
   "outputs": [],
   "source": [
    "with open('kaps_pri.csv', 'w') as file:\n",
    "    np.savetxt(file, kaps_pri, delimiter=',')\n",
    "with open('kaps_sec.csv', 'w') as file:\n",
    "    np.savetxt(file, kaps_sec_time, delimiter=',')\n",
    "with open('kaps_pri_time.csv', 'w') as file:\n",
    "    np.savetxt(file, kaps_pri, delimiter=',')\n",
    "with open('kaps_sec_time.csv', 'w') as file:\n",
    "    np.savetxt(file, kaps_sec_time, delimiter=',')"
   ]
  },
  {
   "cell_type": "code",
   "execution_count": null,
   "id": "889477f5-c58b-4cb7-b7d5-db4a03a8b60e",
   "metadata": {},
   "outputs": [],
   "source": []
  }
 ],
 "metadata": {
  "kernelspec": {
   "display_name": "posydon",
   "language": "python",
   "name": "posydon"
  },
  "language_info": {
   "codemirror_mode": {
    "name": "ipython",
    "version": 3
   },
   "file_extension": ".py",
   "mimetype": "text/x-python",
   "name": "python",
   "nbconvert_exporter": "python",
   "pygments_lexer": "ipython3",
   "version": "3.7.13"
  }
 },
 "nbformat": 4,
 "nbformat_minor": 5
}
