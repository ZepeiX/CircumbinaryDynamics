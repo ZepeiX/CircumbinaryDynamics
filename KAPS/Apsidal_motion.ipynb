{
 "cells": [
  {
   "cell_type": "code",
   "execution_count": 3,
   "id": "b5686b70-8e1c-42a8-a59f-a47a027b8a8b",
   "metadata": {},
   "outputs": [],
   "source": [
    "import pandas as pd\n",
    "import numpy as np\n",
    "import scipy.integrate as integrate\n",
    "import matplotlib.pyplot as plt\n",
    "import seaborn as sns\n",
    "import scipy.interpolate as interpolate\n",
    "import mesa_reader as mr\n",
    "import csv"
   ]
  },
  {
   "cell_type": "code",
   "execution_count": 4,
   "id": "5fde47ba-4969-4c04-94e7-f731769b2ce0",
   "metadata": {},
   "outputs": [],
   "source": [
    "def radau_equation(t, y, rho_over_rhom):\n",
    "    r = t\n",
    "    eta = y[0]\n",
    "    if r==0.0: return 0.0\n",
    "    \n",
    "    detadr = - eta * (eta - 1) + 6 - 6*rho_over_rhom(r) * (eta + 1)\n",
    "    detadr = detadr / r\n",
    "    return [detadr]\n",
    "\n",
    "def get_rho_over_rhom(rho, r):\n",
    "    rhof = interpolate.interp1d(r, np.log10(rho), kind=\"linear\")\n",
    "    rs = np.linspace(r[0], r[-1], 100)\n",
    "    rhom = rs.copy()\n",
    "        \n",
    "    rhom[0] = rho[0]\n",
    "    for i in range(1,len(rhom)):\n",
    "        intgral, err = integrate.quad(lambda x: x*x*10**rhof(x), r[0], rs[i])\n",
    "        rhom[i] = 3/rs[i]**3 * intgral\n",
    "    rho_over_rhom = 10**rhof(rs)/rhom\n",
    "    rho_over_rhomf = interpolate.interp1d(rs, rho_over_rhom, kind=\"linear\")\n",
    "\n",
    "    return rho_over_rhomf"
   ]
  },
  {
   "cell_type": "code",
   "execution_count": 12,
   "id": "a7c477b0-8020-4195-8be9-66319e28608b",
   "metadata": {},
   "outputs": [
    {
     "name": "stderr",
     "output_type": "stream",
     "text": [
      "/var/folders/dc/bp8tgwzs5xjchjk8z3tl70vm0000gn/T/ipykernel_18841/2432275402.py:17: IntegrationWarning: The occurrence of roundoff error is detected, which prevents \n",
      "  the requested tolerance from being achieved.  The error may be \n",
      "  underestimated.\n",
      "  intgral, err = integrate.quad(lambda x: x*x*10**rhof(x), r[0], rs[i])\n",
      "/var/folders/dc/bp8tgwzs5xjchjk8z3tl70vm0000gn/T/ipykernel_18841/2432275402.py:17: IntegrationWarning: The maximum number of subdivisions (50) has been achieved.\n",
      "  If increasing the limit yields no improvement it is advised to analyze \n",
      "  the integrand in order to determine the difficulties.  If the position of a \n",
      "  local difficulty can be determined (singularity, discontinuity) one will \n",
      "  probably gain from splitting up the interval and calling the integrator \n",
      "  on the subranges.  Perhaps a special-purpose integrator should be used.\n",
      "  intgral, err = integrate.quad(lambda x: x*x*10**rhof(x), r[0], rs[i])\n"
     ]
    }
   ],
   "source": [
    "kaps_pri = []\n",
    "kaps_pri_time =[]\n",
    "kaps_sec = []\n",
    "kaps_sec_time =[]\n",
    "N=300\n",
    "for i in range(N):\n",
    "    profile_path1 ='../LOGS1/profile%d.data'%(i+1)\n",
    "    p = mr.MesaData(profile_path1)\n",
    "    kaps_pri_time.append(p.header('star_age'))\n",
    "    rho = 10**p.data('logRho')\n",
    "    r = 10**p.data('logR')\n",
    "    r = np.flip(r)\n",
    "    rho = np.flip(rho)\n",
    "    rho_over_rhomf = get_rho_over_rhom(rho, r)\n",
    "    eta_center = 0.0\n",
    "    teval = np.linspace(0.1, r[-1], 50)\n",
    "    sol = integrate.solve_ivp(radau_equation, t_span=[r[0], r[-1]], y0=[eta_center], args=(rho_over_rhomf,), method=\"DOP853\", t_eval=teval, rtol=1e-9, atol=1e-9)\n",
    "    eta2_surf = sol.y[0][-1]\n",
    "    kaps = (3 - eta2_surf) / (4 + 2*eta2_surf)\n",
    "    kaps_pri.append(kaps)\n",
    "for i in range(N):\n",
    "    profile_path2 ='../LOGS2/profile%d.data'%(i+1)\n",
    "    p = mr.MesaData(profile_path2)\n",
    "    kaps_sec_time.append(p.header('star_age'))\n",
    "    rho = 10**p.data('logRho')\n",
    "    r = 10**p.data('logR')\n",
    "    r = np.flip(r)\n",
    "    rho = np.flip(rho)\n",
    "    rho_over_rhomf = get_rho_over_rhom(rho, r)\n",
    "    eta_center = 0.0\n",
    "    teval = np.linspace(0.1, r[-1], 50)\n",
    "    sol = integrate.solve_ivp(radau_equation, t_span=[r[0], r[-1]], y0=[eta_center], args=(rho_over_rhomf,), method=\"DOP853\", t_eval=teval, rtol=1e-9, atol=1e-9)\n",
    "    eta2_surf = sol.y[0][-1]\n",
    "    kaps = (3 - eta2_surf) / (4 + 2*eta2_surf)\n",
    "    kaps_sec.append(kaps)"
   ]
  },
  {
   "cell_type": "code",
   "execution_count": 15,
   "id": "acbb41bc-c28e-4d41-afc2-8852aaf9843f",
   "metadata": {},
   "outputs": [],
   "source": [
    "data1 = np.column_stack((kaps_pri, kaps_pri_time))\n",
    "np.savetxt('kaps_pri.csv', data1, delimiter=',')\n",
    "data2 = np.column_stack((kaps_sec, kaps_sec_time))\n",
    "np.savetxt('kaps_sec.csv', data2, delimiter=',')"
   ]
  },
  {
   "cell_type": "code",
   "execution_count": null,
   "id": "d85444ed-8fb6-4f5c-a86d-ddeb83a3901e",
   "metadata": {},
   "outputs": [],
   "source": []
  }
 ],
 "metadata": {
  "kernelspec": {
   "display_name": "xing",
   "language": "python",
   "name": "xing"
  },
  "language_info": {
   "codemirror_mode": {
    "name": "ipython",
    "version": 3
   },
   "file_extension": ".py",
   "mimetype": "text/x-python",
   "name": "python",
   "nbconvert_exporter": "python",
   "pygments_lexer": "ipython3",
   "version": "3.11.5"
  }
 },
 "nbformat": 4,
 "nbformat_minor": 5
}
